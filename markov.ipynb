{
 "cells": [
  {
   "cell_type": "code",
   "execution_count": 12,
   "metadata": {},
   "outputs": [
    {
     "name": "stdout",
     "output_type": "stream",
     "text": [
      "[[0.25 0.25 0.5 ]\n",
      " [0.25 0.5  0.25]\n",
      " [0.5  0.25 0.25]]\n",
      "EigResult(eigenvalues=array([ 1.  , -0.25,  0.25]), eigenvectors=array([[-5.77350269e-01, -7.07106781e-01,  4.08248290e-01],\n",
      "       [-5.77350269e-01,  1.54173561e-17, -8.16496581e-01],\n",
      "       [-5.77350269e-01,  7.07106781e-01,  4.08248290e-01]]))\n",
      "[0.33333333 0.33333333 0.33333333]\n",
      "[[0.5  0.45 0.25]\n",
      " [0.25 0.1  0.25]\n",
      " [0.25 0.45 0.5 ]]\n"
     ]
    }
   ],
   "source": [
    "import numpy as np\n",
    "import pandas as pd\n",
    "\n",
    "gold_matrix = np.array([[1/4, 1/4, 1/2], [1/4, 1/2, 1/4], [1/2, 1/4, 1/4]])\n",
    "e = np.linalg.eig(gold_matrix)\n",
    "print(gold_matrix)\n",
    "print(e)\n",
    "\n",
    "v = np.zeros(3)\n",
    "v[0] = 1\n",
    "r = np.linalg.matrix_power(gold_matrix, 100)@v\n",
    "print(r)\n",
    "\n",
    "bc_matrix = np.array([[0.5, 0.45, 0.25], [0.25, 0.1, 0.25], [0.25, 0.45, 0.5]])\n",
    "e2 = np.linalg.eig(bc_matrix)\n",
    "print(bc_matrix)\n",
    "\n",
    "# print(e2)"
   ]
  }
 ],
 "metadata": {
  "kernelspec": {
   "display_name": "Python 3",
   "language": "python",
   "name": "python3"
  },
  "language_info": {
   "codemirror_mode": {
    "name": "ipython",
    "version": 3
   },
   "file_extension": ".py",
   "mimetype": "text/x-python",
   "name": "python",
   "nbconvert_exporter": "python",
   "pygments_lexer": "ipython3",
   "version": "3.10.2"
  }
 },
 "nbformat": 4,
 "nbformat_minor": 2
}
