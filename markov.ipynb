{
 "cells": [
  {
   "cell_type": "code",
   "execution_count": null,
   "metadata": {},
   "outputs": [
    {
     "name": "stdout",
     "output_type": "stream",
     "text": [
      "[0.33333333 0.33333333 0.33333333]\n",
      "EigResult(eigenvalues=array([ 1.  ,  0.25, -0.15]), eigenvectors=array([[-6.58145182e-01, -7.07106781e-01,  4.08248290e-01],\n",
      "       [-3.65636212e-01,  1.24949658e-17, -8.16496581e-01],\n",
      "       [-6.58145182e-01,  7.07106781e-01,  4.08248290e-01]]))\n",
      "[0.39130435 0.2173913  0.39130435]\n"
     ]
    }
   ],
   "source": [
    "import numpy as np\n",
    "import pandas as pd\n",
    "\n",
    "# Transition matrices\n",
    "gold_matrix = np.array([[1/4, 1/4, 1/2], [1/4, 1/2, 1/4], [1/2, 1/4, 1/4]])\n",
    "e = np.linalg.eig(gold_matrix)\n",
    "\n",
    "bc_matrix = np.array([[0.5, 0.45, 0.25], [0.25, 0.1, 0.25], [0.25, 0.45, 0.5]])\n",
    "e2 = np.linalg.eig(bc_matrix)"
   ]
  },
  {
   "cell_type": "code",
   "execution_count": null,
   "metadata": {},
   "outputs": [],
   "source": [
    "# Strategy: buy low, sell high\n",
    "\n",
    "# Allocation vector is of the form [cash, gold, bitcoin] in dollars\n",
    "allocation = np.array([200, 400, 400])\n",
    "\n",
    "n = 5 * 365 # number of days\n",
    "cur = 1 # current day\n",
    "prev_gold = allocation[1]\n",
    "prev_bc = allocation[2]\n",
    "move_threshold = 10\n",
    "\n",
    "while cur <= n:\n",
    "    # get current value from excel sheets\n",
    "    # compare to previous values, if change is greater than move threshold, check states\n",
    "\n",
    "    # States:\n",
    "    # Make move matrix"
   ]
  }
 ],
 "metadata": {
  "kernelspec": {
   "display_name": "Python 3",
   "language": "python",
   "name": "python3"
  },
  "language_info": {
   "codemirror_mode": {
    "name": "ipython",
    "version": 3
   },
   "file_extension": ".py",
   "mimetype": "text/x-python",
   "name": "python",
   "nbconvert_exporter": "python",
   "pygments_lexer": "ipython3",
   "version": "3.10.2"
  }
 },
 "nbformat": 4,
 "nbformat_minor": 2
}
